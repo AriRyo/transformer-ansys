{
 "cells": [
  {
   "cell_type": "code",
   "execution_count": 11,
   "metadata": {},
   "outputs": [],
   "source": [
    "import random\n",
    "import operator\n",
    "import math\n",
    "\n",
    "# 数式生成に使うオペレータと対応するPythonの演算子\n",
    "operators = {\n",
    "    '+': operator.add,\n",
    "    '-': operator.sub,\n",
    "    '*': operator.mul,\n",
    "    # '/': operator.truediv,\n",
    "}\n",
    "\n",
    "# ランダムな数式を生成する関数\n",
    "def generate_expression(depth=0):\n",
    "    if depth >= 1 and random.random() < 0.7:\n",
    "        # 数字のみを返す\n",
    "        return str(random.randint(1, 10))\n",
    "    else:\n",
    "        # 深さを増やしながら再帰的に数式を生成\n",
    "        op = random.choice(list(operators.keys()))\n",
    "        left = generate_expression(depth + 1)\n",
    "        right = generate_expression(depth + 1)\n",
    "        return f\"({left} {op} {right})\"\n",
    "\n",
    "# 数式の計算結果を得る関数\n",
    "def evaluate_expression(expr):\n",
    "    try:\n",
    "        # evalを使って数式を評価し、四捨五入する\n",
    "        result = eval(expr)\n",
    "        return round(result, 2)  # 小数点以下2桁に丸める\n",
    "    except ZeroDivisionError:\n",
    "        return 'NaN'\n",
    "\n",
    "# 数式を生成して計算結果を加える\n",
    "def create_equation():\n",
    "    expr = generate_expression()\n",
    "    result = evaluate_expression(expr)\n",
    "    return f\"{expr} = {result}\"\n",
    "\n",
    "# 100個の数式を生成してテキストファイルに保存\n",
    "def generate_equations_to_file(filename=\"data/equations.txt\", num_equations=100):\n",
    "    with open(filename, 'w') as file:\n",
    "        for _ in range(num_equations):\n",
    "            equation = create_equation()\n",
    "            file.write(equation + '\\n')\n",
    "    # テスト用\n",
    "    # for _ in range(num_equations):\n",
    "    #     equation = create_equation()\n",
    "    #     print(equation)\n",
    "\n",
    "# 実行\n",
    "generate_equations_to_file(num_equations=1000000)\n"
   ]
  },
  {
   "cell_type": "code",
   "execution_count": null,
   "metadata": {},
   "outputs": [],
   "source": []
  }
 ],
 "metadata": {
  "kernelspec": {
   "display_name": ".venv",
   "language": "python",
   "name": "python3"
  },
  "language_info": {
   "codemirror_mode": {
    "name": "ipython",
    "version": 3
   },
   "file_extension": ".py",
   "mimetype": "text/x-python",
   "name": "python",
   "nbconvert_exporter": "python",
   "pygments_lexer": "ipython3",
   "version": "3.10.12"
  }
 },
 "nbformat": 4,
 "nbformat_minor": 2
}
