{
 "cells": [
  {
   "cell_type": "code",
   "execution_count": 1,
   "metadata": {},
   "outputs": [],
   "source": [
    "# import library\n",
    "from pathlib import Path\n",
    "import math\n",
    "import time\n",
    "from collections import Counter\n",
    "from tqdm import tqdm\n",
    "import torch\n",
    "from torch.utils.data import random_split\n",
    "import torch.nn as nn\n",
    "from torch import Tensor\n",
    "from torch.nn.utils.rnn import pad_sequence\n",
    "from torch.utils.data import DataLoader\n",
    "import torch.nn.functional as F\n",
    "from torch import Tensor\n",
    "import joblib\n",
    "import matplotlib.pyplot as plt\n",
    "import numpy as np\n",
    "from sklearn.decomposition import PCA\n",
    "import umap\n",
    "import seaborn as sns\n",
    "import pandas as pd\n",
    "import japanize_matplotlib"
   ]
  },
  {
   "cell_type": "code",
   "execution_count": 2,
   "metadata": {},
   "outputs": [],
   "source": [
    "version = '05-1'\n",
    "model_dir = './model/' + version\n",
    "data_path = f'data/eq05-1.txt'\n",
    "test_data_path = f'data/eq05-1-test.txt'\n"
   ]
  },
  {
   "cell_type": "markdown",
   "metadata": {},
   "source": [
    "\n",
    "## 初期設定"
   ]
  },
  {
   "cell_type": "markdown",
   "metadata": {},
   "source": [
    "### データセット定義"
   ]
  },
  {
   "cell_type": "code",
   "execution_count": 3,
   "metadata": {},
   "outputs": [
    {
     "name": "stdout",
     "output_type": "stream",
     "text": [
      "Using device: cuda:0\n"
     ]
    }
   ],
   "source": [
    "\n",
    "# 事前設定\n",
    "%load_ext autoreload\n",
    "%autoreload 2\n",
    "torch.set_printoptions(linewidth=100)\n",
    "\n",
    "device = torch.device('cuda:0' if torch.cuda.is_available() else 'cpu')\n",
    "print('Using device:', device)\n",
    "\n",
    "model_dir_path = Path(model_dir)\n",
    "\n",
    "def read_file(file_path):\n",
    "    with open(file_path, 'r') as file:\n",
    "        lines = file.readlines()\n",
    "    src_data, tgt_data = [], []\n",
    "    for line in lines:\n",
    "        src, tgt = line.strip().split(' => ')\n",
    "        src_data.append(src)\n",
    "        tgt_data.append(tgt)\n",
    "    return src_data, tgt_data\n",
    "SPECIALS = ['<start>', '<end>', '<pad>', '<unk>']\n",
    "\n",
    "def build_vocab(texts):\n",
    "    vocab = {}\n",
    "    idx = 0\n",
    "    # 数字の語彙定義\n",
    "    for i in range(10):\n",
    "        vocab[str(i)] = idx\n",
    "        idx += 1\n",
    "    # その他の文字の語彙定義\n",
    "    for text in texts:\n",
    "        for char in text:\n",
    "            if char not in vocab:\n",
    "                vocab[char] = idx\n",
    "                idx += 1\n",
    "    # 特別語の語彙定義\n",
    "    for sp in SPECIALS:\n",
    "        vocab[sp] = idx\n",
    "        idx += 1\n",
    "    return vocab\n",
    "\n",
    "\n",
    "def convert_text_to_indexes(text, vocab):\n",
    "    # <start> と <end> トークンを追加して数値化\n",
    "    return [vocab['<start>']] + [vocab[char] if char in vocab else vocab['<unk>'] for char in text] + [vocab['<end>']]\n",
    "\n",
    "# データを処理して Train と Valid に分ける関数\n",
    "# データを処理して Train と Valid に分ける関数\n",
    "def data_process_split(src_texts, tgt_texts, vocab_src, vocab_tgt, valid_size=0.2):\n",
    "    # データを数値化\n",
    "    data = []\n",
    "    for (src, tgt) in zip(src_texts, tgt_texts):\n",
    "        src_tensor = torch.tensor(convert_text_to_indexes(src, vocab_src), dtype=torch.long)\n",
    "        tgt_tensor = torch.tensor(convert_text_to_indexes(tgt, vocab_tgt), dtype=torch.long)\n",
    "        data.append((src_tensor, tgt_tensor))\n",
    "    \n",
    "    # データのサイズを計算して、訓練データと検証データに分割\n",
    "    data_size = len(data)\n",
    "    valid_size = int(valid_size * data_size)\n",
    "    train_size = data_size - valid_size\n",
    "\n",
    "    # PyTorchのrandom_splitを使って分割\n",
    "    train_data, valid_data = random_split(data, [train_size, valid_size])\n",
    "    \n",
    "    return train_data, valid_data\n",
    "\n"
   ]
  },
  {
   "cell_type": "code",
   "execution_count": 4,
   "metadata": {},
   "outputs": [],
   "source": [
    "src_data, tgt_data = read_file(data_path)\n",
    "vocab_src = vocab_tgt = build_vocab(src_data + tgt_data)\n",
    "reverse_vocab = {idx: token for token, idx in vocab_tgt.items()}\n",
    "\n",
    "PAD_IDX = vocab_src['<pad>']\n",
    "START_IDX = vocab_src['<start>']\n",
    "END_IDX = vocab_src['<end>']"
   ]
  },
  {
   "cell_type": "markdown",
   "metadata": {},
   "source": [
    "### モデル定義"
   ]
  },
  {
   "cell_type": "code",
   "execution_count": 5,
   "metadata": {},
   "outputs": [],
   "source": [
    "\n",
    "device = torch.device('cuda:0' if torch.cuda.is_available() else 'cpu')\n"
   ]
  },
  {
   "cell_type": "code",
   "execution_count": 6,
   "metadata": {},
   "outputs": [],
   "source": [
    "class TokenEmbedding(nn.Module):\n",
    "    \n",
    "    def __init__(self, vocab_size, embedding_size):\n",
    "        \n",
    "        super(TokenEmbedding, self).__init__()\n",
    "        self.embedding = nn.Embedding(vocab_size, embedding_size, padding_idx=PAD_IDX)\n",
    "        self.embedding_size = embedding_size\n",
    "        \n",
    "    def forward(self, tokens: Tensor):\n",
    "        return self.embedding(tokens.long()) * math.sqrt(self.embedding_size)\n",
    "    \n",
    "    \n",
    "class PositionalEncoding(nn.Module):\n",
    "    \n",
    "    def __init__(self, embedding_size: int, dropout: float, maxlen: int = 5000):\n",
    "        super(PositionalEncoding, self).__init__()\n",
    "        \n",
    "        den = torch.exp(-torch.arange(0, embedding_size, 2) * math.log(10000) / embedding_size)\n",
    "        pos = torch.arange(0, maxlen).reshape(maxlen, 1)\n",
    "        embedding_pos = torch.zeros((maxlen, embedding_size))\n",
    "        embedding_pos[:, 0::2] = torch.sin(pos * den)\n",
    "        embedding_pos[:, 1::2] = torch.cos(pos * den)\n",
    "        embedding_pos = embedding_pos.unsqueeze(-2)\n",
    "\n",
    "        self.dropout = nn.Dropout(dropout)\n",
    "        self.register_buffer('embedding_pos', embedding_pos)\n",
    "\n",
    "    def forward(self, token_embedding: Tensor):\n",
    "        return self.dropout(token_embedding + self.embedding_pos[: token_embedding.size(0), :])\n",
    "\n",
    "\n",
    "class TransformerDecoderLayerScratch(nn.Module):\n",
    "    def __init__(self, d_model, nhead, dim_feedforward, dropout=0.1):\n",
    "        super(TransformerDecoderLayerScratch, self).__init__()\n",
    "        # Self-attention for the decoder\n",
    "        self.self_attn = nn.MultiheadAttention(d_model, nhead, dropout=dropout)\n",
    "        # Multihead attention for attending to encoder outputs (memory)\n",
    "        self.cross_attn = nn.MultiheadAttention(d_model, nhead, dropout=dropout)\n",
    "        # Layer normalization layers\n",
    "        self.norm1 = nn.LayerNorm(d_model)\n",
    "        self.norm2 = nn.LayerNorm(d_model)\n",
    "        # Dropout\n",
    "        self.dropout1 = nn.Dropout(dropout)\n",
    "        self.dropout2 = nn.Dropout(dropout)\n",
    "\n",
    "\n",
    "    def forward(self, tgt, memory, tgt_mask=None, memory_mask=None, tgt_key_padding_mask=None, memory_key_padding_mask=None):\n",
    "        # Self-attention\n",
    "        tgt2, _ = self.self_attn(tgt, tgt, tgt, attn_mask=tgt_mask, key_padding_mask=tgt_key_padding_mask)\n",
    "        tgt = tgt + self.dropout1(tgt2)\n",
    "        tgt = self.norm1(tgt)\n",
    "        \n",
    "        #Cross-attention\n",
    "        tgt2, _ = self.cross_attn(tgt, memory, memory, attn_mask=memory_mask, key_padding_mask=memory_key_padding_mask)\n",
    "        tgt = tgt + self.dropout2(tgt2)\n",
    "        tgt = self.norm2(tgt)\n",
    "\n",
    "        return tgt\n",
    "\n",
    "class TransformerEncoderLayerScratch(nn.Module):\n",
    "    def __init__(self, d_model, nhead, dim_feedforward, dropout=0.1):\n",
    "        super(TransformerEncoderLayerScratch, self).__init__()\n",
    "        # Self-attention for the encoder\n",
    "        self.self_attn = nn.MultiheadAttention(d_model, nhead, dropout=dropout)\n",
    "        self.norm1 = nn.LayerNorm(d_model)\n",
    "        self.dropout1 = nn.Dropout(dropout)\n",
    "\n",
    "    def forward(self, src, src_mask=None, src_key_padding_mask=None):\n",
    "        # Self-attention\n",
    "        memory, _ = self.self_attn(src, src, src, attn_mask=src_mask, key_padding_mask=src_key_padding_mask)\n",
    "        memory = src + self.dropout1(memory)\n",
    "        memory = self.norm1(memory)\n",
    "        \n",
    "        return memory\n",
    "\n",
    "\n",
    "class Seq2SeqTransformer(nn.Module):\n",
    "    \n",
    "    def __init__(\n",
    "        self, num_encoder_layers: int, num_decoder_layers: int,\n",
    "        embedding_size: int, vocab_size: int,\n",
    "        dim_feedforward:int = 512, dropout:float = 0.1, nhead:int = 8\n",
    "    ):\n",
    "        \n",
    "        super(Seq2SeqTransformer, self).__init__()\n",
    "\n",
    "        self.token_embedding = TokenEmbedding(vocab_size, embedding_size)\n",
    "        self.positional_encoding = PositionalEncoding(embedding_size, dropout=dropout)\n",
    "        self.encoder_layer = TransformerEncoderLayerScratch(\n",
    "            d_model=embedding_size, nhead=nhead, dim_feedforward=dim_feedforward, dropout=dropout\n",
    "        )\n",
    "\n",
    "        self.decoder_layer = TransformerDecoderLayerScratch(\n",
    "            d_model=embedding_size, nhead=nhead, dim_feedforward=dim_feedforward, dropout=dropout\n",
    "        )\n",
    "        \n",
    "        # self.output = nn.Linear(embedding_size, vocab_size)\n",
    "\n",
    "    def forward(\n",
    "        self, src: Tensor, tgt: Tensor,\n",
    "        mask_src: Tensor, mask_tgt: Tensor,\n",
    "        padding_mask_src: Tensor, padding_mask_tgt: Tensor,\n",
    "        memory_key_padding_mask: Tensor\n",
    "    ):\n",
    "        embedding_src = self.positional_encoding(self.token_embedding(src))\n",
    "        memory = self.encoder_layer(embedding_src, mask_src, padding_mask_src)\n",
    "        embedding_tgt = self.positional_encoding(self.token_embedding(tgt))\n",
    "        outs = self.decoder_layer(\n",
    "            embedding_tgt, memory, mask_tgt, None,\n",
    "            padding_mask_tgt, memory_key_padding_mask\n",
    "        )\n",
    "        return self.compute_output(outs)\n",
    "    \n",
    "    def compute_output(self, outs: Tensor):\n",
    "        # token embeddingの重みを転置して出力層で使用する\n",
    "        output = torch.matmul(outs/math.sqrt(self.token_embedding.embedding_size), self.token_embedding.embedding.weight.transpose(0, 1))\n",
    "        return output\n",
    "\n",
    "    def decode(self, tgt: Tensor, memory: Tensor, mask_tgt: Tensor):\n",
    "        return self.decoder_layer(self.positional_encoding(self.token_embedding(tgt)), memory, mask_tgt)\n",
    "    \n",
    "\n",
    "def create_mask(src, tgt, PAD_IDX):\n",
    "    \n",
    "    seq_len_src = src.shape[0]\n",
    "    seq_len_tgt = tgt.shape[0]\n",
    "\n",
    "    mask_src = torch.zeros((seq_len_src, seq_len_src), device=device).type(torch.bool)\n",
    "    mask_tgt = generate_square_subsequent_mask(seq_len_tgt)\n",
    "\n",
    "    padding_mask_src = (src == PAD_IDX).transpose(0, 1)\n",
    "    padding_mask_tgt = (tgt == PAD_IDX).transpose(0, 1)\n",
    "    \n",
    "    return mask_src, mask_tgt, padding_mask_src, padding_mask_tgt\n",
    "\n",
    "\n",
    "def generate_square_subsequent_mask(seq_len):\n",
    "    mask = (torch.triu(torch.ones((seq_len, seq_len), device=device)) == 1).transpose(0, 1)\n",
    "    mask = mask.float().masked_fill(mask == 0, float('-inf')).masked_fill(mask == 1, float(0.0))\n",
    "    return mask"
   ]
  },
  {
   "cell_type": "code",
   "execution_count": 7,
   "metadata": {},
   "outputs": [],
   "source": [
    "\n",
    "\n",
    "#loaded_model用のSeq2Seqクラス\n",
    "class Seq2SeqForSavedModel(Seq2SeqTransformer):\n",
    "    def __init__(self, *args, **kwargs):\n",
    "        super(Seq2SeqForSavedModel, self).__init__(*args, **kwargs)\n",
    "        self.pca = None\n",
    "\n",
    "    def positional_encoding(self, tensor: Tensor, maxlen=5000):\n",
    "        embedding_size = tensor.size(-1)\n",
    "        den = torch.exp(-torch.arange(0, embedding_size, 2) * math.log(10000) / embedding_size)\n",
    "        pos = torch.arange(0, maxlen).reshape(maxlen, 1)\n",
    "        embedding_pos = torch.zeros((maxlen, embedding_size))\n",
    "        embedding_pos[:, 0::2] = torch.sin(pos * den)\n",
    "        embedding_pos[:, 1::2] = torch.cos(pos * den)\n",
    "        embedding_pos = embedding_pos.unsqueeze(-2)\n",
    "        return tensor + embedding_pos[: tensor.size(0), :].to(tensor.device)\n",
    "    \n",
    "    def self_attn_decoder(self, tgt, embedding_size):\n",
    "        self_attn_wq, self_attn_wk, self_attn_wv = self.decoder_layer.self_attn.in_proj_weight.data.chunk(3, dim=0)\n",
    "        self_attn_bq, self_attn_bk, self_attn_bv = self.decoder_layer.self_attn.in_proj_bias.data.chunk(3, dim=0)\n",
    "        QW = torch.matmul(tgt.permute(1, 0, 2), self_attn_wq.T) + self_attn_bq\n",
    "        KW = torch.matmul(tgt.permute(1, 0, 2), self_attn_wk.T) + self_attn_bk\n",
    "        VW = torch.matmul(tgt.permute(1, 0, 2), self_attn_wv.T) + self_attn_bv\n",
    "        self_attn_weights = F.softmax(torch.bmm(QW, KW.transpose(-2, -1)) / math.sqrt(embedding_size), dim=-1)\n",
    "        AV = torch.matmul(self_attn_weights, VW)\n",
    "        self_attn_output = torch.matmul(AV, self.decoder_layer.self_attn.out_proj.weight.data.T) + self.decoder_layer.self_attn.out_proj.bias.data\n",
    "        return tgt + self_attn_output.permute(1, 0, 2), self_attn_output.permute(1, 0, 2), self_attn_weights\n",
    "\n",
    "    def self_attn_encoder(self, tgt, embedding_size):\n",
    "        self_attn_wq, self_attn_wk, self_attn_wv = self.encoder_layer.self_attn.in_proj_weight.data.chunk(3, dim=0)\n",
    "        self_attn_bq, self_attn_bk, self_attn_bv = self.encoder_layer.self_attn.in_proj_bias.data.chunk(3, dim=0)\n",
    "        QW = torch.matmul(tgt.permute(1, 0, 2), self_attn_wq.T) + self_attn_bq\n",
    "        KW = torch.matmul(tgt.permute(1, 0, 2), self_attn_wk.T) + self_attn_bk\n",
    "        VW = torch.matmul(tgt.permute(1, 0, 2), self_attn_wv.T) + self_attn_bv\n",
    "        self_attn_weights = F.softmax(torch.bmm(QW, KW.transpose(-2, -1)) / math.sqrt(embedding_size), dim=-1)\n",
    "        AV = torch.matmul(self_attn_weights, VW)\n",
    "        self_attn_output = torch.matmul(AV, self.encoder_layer.self_attn.out_proj.weight.data.T) + self.encoder_layer.self_attn.out_proj.bias.data\n",
    "        return tgt + self_attn_output.permute(1, 0, 2), self_attn_output.permute(1, 0, 2), self_attn_weights\n",
    "    \n",
    "    def cross_attn(self, tgt, memory, embedding_size):\n",
    "        multi_attn_wq, multi_attn_wk, multi_attn_wv = self.decoder_layer.cross_attn.in_proj_weight.data.chunk(3, dim=0)\n",
    "        multi_attn_bq, multi_attn_bk, multi_attn_bv = self.decoder_layer.cross_attn.in_proj_bias.data.chunk(3, dim=0)\n",
    "        QW = torch.matmul(tgt.permute(1, 0, 2), multi_attn_wq.T) + multi_attn_bq\n",
    "        KW = torch.matmul(memory.permute(1, 0, 2), multi_attn_wk.T) + multi_attn_bk\n",
    "        VW = torch.matmul(memory.permute(1, 0, 2), multi_attn_wv.T) + multi_attn_bv\n",
    "        multi_attn_weights = F.softmax(torch.bmm(QW, KW.transpose(-2, -1)) / math.sqrt(embedding_size), dim=-1)\n",
    "        AV = torch.matmul(multi_attn_weights, VW)\n",
    "        multi_attn_output = torch.matmul(AV, self.decoder_layer.cross_attn.out_proj.weight.data.T) + self.decoder_layer.cross_attn.out_proj.bias.data\n",
    "        return tgt + multi_attn_output.permute(1, 0, 2), multi_attn_output.permute(1, 0, 2), multi_attn_weights\n",
    "\n",
    "    def predict_next_token(self, src, tgt, embedding_size, device=device):\n",
    "        memory = self.positional_encoding(self.token_embedding(src))\n",
    "        tgt_embed = self.positional_encoding(self.token_embedding(tgt))\n",
    "        tgt_mask = generate_square_subsequent_mask(tgt.size(0)).to(device).type(torch.bool)\n",
    "\n",
    "        memory, _, _ = self.self_attn_encoder(memory, embedding_size)\n",
    "        memory = self.encoder_layer.norm1(memory)\n",
    "        # memory = self.encoder_layer.norm2(F.relu(self.encoder_layer.linear1(memory)) + memory)\n",
    "\n",
    "        tgt, _, self_attn_weights = self.self_attn_decoder(tgt_embed, embedding_size)\n",
    "        tgt = self.decoder_layer.norm1(tgt)\n",
    "        tgt, _, multi_attn_weights = self.cross_attn(tgt, memory, embedding_size)\n",
    "        tgt = self.decoder_layer.norm2(tgt)\n",
    "        # tgt = self.decoder_layer.norm3(F.relu(self.decoder_layer.linear1(tgt)) + tgt)\n",
    "        output = self.compute_output(tgt.transpose(0, 1)[:, -1])\n",
    "\n",
    "        _, next_word = torch.max(output, dim=1)\n",
    "        next_word = next_word.item()\n",
    "\n",
    "        return next_word, self_attn_weights, multi_attn_weights\n",
    "    \n"
   ]
  },
  {
   "cell_type": "code",
   "execution_count": 8,
   "metadata": {},
   "outputs": [
    {
     "data": {
      "text/plain": [
       "Seq2SeqForSavedModel(\n",
       "  (token_embedding): TokenEmbedding(\n",
       "    (embedding): Embedding(16, 4, padding_idx=14)\n",
       "  )\n",
       "  (positional_encoding): PositionalEncoding(\n",
       "    (dropout): Dropout(p=0, inplace=False)\n",
       "  )\n",
       "  (encoder_layer): TransformerEncoderLayerScratch(\n",
       "    (self_attn): MultiheadAttention(\n",
       "      (out_proj): NonDynamicallyQuantizableLinear(in_features=4, out_features=4, bias=True)\n",
       "    )\n",
       "    (norm1): LayerNorm((4,), eps=1e-05, elementwise_affine=True)\n",
       "    (dropout1): Dropout(p=0, inplace=False)\n",
       "  )\n",
       "  (decoder_layer): TransformerDecoderLayerScratch(\n",
       "    (self_attn): MultiheadAttention(\n",
       "      (out_proj): NonDynamicallyQuantizableLinear(in_features=4, out_features=4, bias=True)\n",
       "    )\n",
       "    (cross_attn): MultiheadAttention(\n",
       "      (out_proj): NonDynamicallyQuantizableLinear(in_features=4, out_features=4, bias=True)\n",
       "    )\n",
       "    (norm1): LayerNorm((4,), eps=1e-05, elementwise_affine=True)\n",
       "    (norm2): LayerNorm((4,), eps=1e-05, elementwise_affine=True)\n",
       "    (dropout1): Dropout(p=0, inplace=False)\n",
       "    (dropout2): Dropout(p=0, inplace=False)\n",
       "  )\n",
       ")"
      ]
     },
     "execution_count": 8,
     "metadata": {},
     "output_type": "execute_result"
    }
   ],
   "source": [
    "vocab_size_src = len(vocab_src)\n",
    "vocab_size_tgt = len(vocab_tgt)\n",
    "embedding_size = 4\n",
    "nhead = 1\n",
    "dim_feedforward = 4\n",
    "num_encoder_layers = 1\n",
    "num_decoder_layers = 1\n",
    "dropout = 0\n",
    "model_path = model_dir_path.joinpath(version + 'translation_transfomer.pth')\n",
    "\n",
    "loaded_model = Seq2SeqForSavedModel(\n",
    "    num_encoder_layers=num_encoder_layers,\n",
    "    num_decoder_layers=num_decoder_layers,\n",
    "    embedding_size=embedding_size,\n",
    "    vocab_size=vocab_size_src,\n",
    "    dim_feedforward=dim_feedforward,\n",
    "    dropout=dropout, nhead=nhead\n",
    ").to(device)\n",
    "loaded_model.load_state_dict(torch.load(model_path))\n",
    "loaded_model.eval()\n"
   ]
  },
  {
   "cell_type": "markdown",
   "metadata": {},
   "source": [
    "\n",
    "## Attentionの図示"
   ]
  },
  {
   "cell_type": "markdown",
   "metadata": {},
   "source": [
    "Attentionがうまく言っている例"
   ]
  },
  {
   "cell_type": "code",
   "execution_count": 9,
   "metadata": {},
   "outputs": [],
   "source": [
    "\n",
    "def plot_heatmap(attention_map, src_label=[], ys_label=[], title=\"Attention Map\", fontsize=12):\n",
    "    # ヒートマップとしてAttentionを描画\n",
    "    plt.figure(figsize=(7, 6))\n",
    "    sns.heatmap(attention_map, annot=False, cmap='viridis', cbar=True)\n",
    "    plt.title(title)\n",
    "    xticks = [f\"{src_label[i]}\" for i in range(len(src_label))]\n",
    "    yticks = [f\"{ys_label[i]}\" for i in range(len(ys_label))]\n",
    "    plt.xticks(ticks=np.arange(len(src_label))+0.5, labels=xticks, rotation=0, fontsize=fontsize)\n",
    "    plt.yticks(ticks=np.arange(len(ys_label))+0.5, labels=yticks, rotation=0, fontsize=fontsize)\n",
    "    plt.xlabel(\"Source\", fontsize=fontsize)\n",
    "    plt.ylabel(\"Target\", fontsize=fontsize)\n",
    "    plt.show()"
   ]
  },
  {
   "cell_type": "code",
   "execution_count": 10,
   "metadata": {},
   "outputs": [
    {
     "name": "stdout",
     "output_type": "stream",
     "text": [
      "Examples of random data ending with Even: ['08342', '74152', '53780', '32782', '19638']\n",
      "Examples of random data ending with Odd: ['89723', '90539', '31133', '51729', '23213']\n",
      "tensor([[12]], device='cuda:0')\n"
     ]
    }
   ],
   "source": [
    "import random\n",
    "\n",
    "# 偶数と奇数のデータをランダムに生成\n",
    "def generate_random_even_odd_data(num_samples=100):\n",
    "    even_data = []\n",
    "    odd_data = []\n",
    "    for _ in range(num_samples):\n",
    "        even_number = ''.join(str(random.randint(0, 9)) for _ in range(4)) + str(random.choice([0, 2, 4, 6, 8]))\n",
    "        odd_number = ''.join(str(random.randint(0, 9)) for _ in range(4)) + str(random.choice([1, 3, 5, 7, 9]))\n",
    "        even_data.append(even_number)\n",
    "        odd_data.append(odd_number)\n",
    "    return even_data, odd_data\n",
    "# ランダムな偶数と奇数データを生成\n",
    "even_data, odd_data = generate_random_even_odd_data()\n",
    "\n",
    "even_src = [torch.LongTensor(convert_text_to_indexes(text, vocab=vocab_src)).to(device) for text in even_data]\n",
    "odd_src = [torch.LongTensor(convert_text_to_indexes(text, vocab=vocab_src)).to(device) for text in odd_data]\n",
    "\n",
    "# 確認\n",
    "print(\"Examples of random data ending with Even:\", even_data[:5])\n",
    "print(\"Examples of random data ending with Odd:\", odd_data[:5])\n",
    "# 1個目の出力までを取得\n",
    "text = even_data[0]\n",
    "\n",
    "# 翻訳処理を実行\n",
    "# seq_len_tgt = max([len(x[1]) for x in train_data])\n",
    "tokens_src = convert_text_to_indexes(text, vocab=vocab_src)\n",
    "src = torch.LongTensor(tokens_src).reshape(len(tokens_src), 1).to(device)\n",
    "ys = torch.ones(1, 1).fill_(START_IDX).type(torch.long).to(device)\n",
    "\n",
    "for _ in range(0):\n",
    "    next_token, _, _ = loaded_model.predict_next_token(src, ys)\n",
    "    ys = torch.cat([ys, torch.tensor([[next_token]], device=device)], dim=0)\n",
    "print(ys)\n"
   ]
  },
  {
   "cell_type": "code",
   "execution_count": 11,
   "metadata": {},
   "outputs": [
    {
     "name": "stdout",
     "output_type": "stream",
     "text": [
      "(7, 7)\n"
     ]
    },
    {
     "data": {
      "image/png": "[encoded data removed]",
      "text/plain": [
       "<Figure size 700x600 with 2 Axes>"
      ]
     },
     "metadata": {},
     "output_type": "display_data"
    },
    {
     "data": {
      "image/png": "[encoded data removed]",
      "text/plain": [
       "<Figure size 700x600 with 2 Axes>"
      ]
     },
     "metadata": {},
     "output_type": "display_data"
    }
   ],
   "source": [
    "def extract_self_attention_vectors(data_src, model=loaded_model, embedding_size=embedding_size):\n",
    "    attn_maps = []\n",
    "    for src in data_src:\n",
    "        src = src.view(-1, 1)  # Reshape to (seq_len, batch_size)\n",
    "        memory = model.positional_encoding(model.token_embedding(src))\n",
    "        _, _, attn_map = model.self_attn_encoder(memory, embedding_size)\n",
    "        attn_maps.append(attn_map.detach().cpu().numpy())\n",
    "    attn_maps = np.array(attn_maps)\n",
    "    return attn_maps\n",
    "\n",
    "# self-attentionのベクトルを抽出\n",
    "even_vectors_sa = extract_self_attention_vectors(even_src, loaded_model).mean(axis=0).squeeze()\n",
    "odd_vectors_sa = extract_self_attention_vectors(odd_src, loaded_model).mean(axis=0).squeeze()\n",
    "\n",
    "# Cross AttentionのAttentionWeightのヒートマップを表示\n",
    "print(even_vectors_sa.shape)\n",
    "plot_heatmap(even_vectors_sa, title=\"\", src_label=\"sxxxxxe\", ys_label=\"sxxxxxe\", fontsize=18)\n",
    "plot_heatmap(odd_vectors_sa, title=\"Attention Weight (Odd)\", src_label=\"sxxxxOe\", ys_label=\"sxxxxOe\")"
   ]
  },
  {
   "cell_type": "code",
   "execution_count": null,
   "metadata": {},
   "outputs": [],
   "source": []
  },
  {
   "cell_type": "code",
   "execution_count": 12,
   "metadata": {},
   "outputs": [
    {
     "name": "stdout",
     "output_type": "stream",
     "text": [
      "(7,) (7,)\n",
      "(7,)\n"
     ]
    },
    {
     "data": {
      "image/png": "[encoded data removed]",
      "text/plain": [
       "<Figure size 700x600 with 2 Axes>"
      ]
     },
     "metadata": {},
     "output_type": "display_data"
    },
    {
     "data": {
      "image/png": "[encoded data removed]",
      "text/plain": [
       "<Figure size 700x600 with 2 Axes>"
      ]
     },
     "metadata": {},
     "output_type": "display_data"
    }
   ],
   "source": [
    "\n",
    "# Cross-AttentionのAttentionWeightの出力を取得\n",
    "def extract_vectors(data_src, model=loaded_model, embedding_size=embedding_size):\n",
    "    vectors = []\n",
    "    for src in data_src:\n",
    "        src = src.view(-1, 1)  # Reshape to (seq_len, batch_size)\n",
    "        tgt = model.positional_encoding(model.token_embedding(ys))\n",
    "        \n",
    "        memory = model.positional_encoding(model.token_embedding(src))\n",
    "        memory, _, _ = model.self_attn_encoder(memory, embedding_size)\n",
    "        memory = model.encoder_layer.norm1(memory)\n",
    "\n",
    "        tgt, _, _ = model.self_attn_decoder(tgt, embedding_size)\n",
    "        tgt = model.decoder_layer.norm1(tgt)\n",
    "\n",
    "        tgt, tgt_, attention_weight = model.cross_attn(tgt, memory, embedding_size)\n",
    "        vectors.append(attention_weight.detach().cpu().numpy().squeeze())\n",
    "    vectors_array = np.array(vectors)\n",
    "    return vectors_array\n",
    "    \n",
    "\n",
    "# 偶数と奇数のCross Attention後のベクトルリストを取得\n",
    "even_vectors_ca = extract_vectors(even_src, loaded_model).mean(axis=0).squeeze()\n",
    "odd_vectors_ca = extract_vectors(odd_src, loaded_model).mean(axis=0).squeeze()\n",
    "print(even_vectors_ca.shape, odd_vectors_ca.shape)# Cross AttentionのAttentionWeightのヒートマップを表示\n",
    "print(even_vectors_ca.shape)\n",
    "plot_heatmap([even_vectors_ca], title=\"\", src_label=\"sxxxxxe\", ys_label=[\"s\"], fontsize=20)\n",
    "plot_heatmap([odd_vectors_ca], title=\"\", src_label=\"sxxxxOe\")"
   ]
  },
  {
   "cell_type": "code",
   "execution_count": 13,
   "metadata": {},
   "outputs": [
    {
     "name": "stdout",
     "output_type": "stream",
     "text": [
      "(7, 4) (7, 4)\n",
      "[[-0.3488557   0.4386819  -1.0742942  -1.401885  ]\n",
      " [-0.36292493  0.35176727 -0.8923496  -1.3242238 ]\n",
      " [-0.20712225  0.42911756 -0.9145925  -1.1210004 ]\n",
      " [-0.4011119   0.3010716  -0.854766   -1.3666302 ]\n",
      " [-0.5572283   0.16853732 -0.8419794  -1.608387  ]\n",
      " [-0.66349375 -0.00722635 -0.6682367  -1.6917083 ]\n",
      " [ 1.3164455  -0.6159627   0.6862799   1.2821819 ]]\n",
      "[[-0.34885484  0.43868265 -1.0742947  -1.401884  ]\n",
      " [-0.35059333  0.36631975 -0.912077   -1.3174758 ]\n",
      " [-0.21624005  0.42049652 -0.90469474 -1.1284606 ]\n",
      " [-0.39436123  0.324975   -0.8945909  -1.3767263 ]\n",
      " [-0.561846    0.15875137 -0.8358043  -1.61428   ]\n",
      " [-0.57720065  0.17131594 -0.9001787  -1.6750617 ]\n",
      " [ 1.2974466  -0.7848996   0.86805445  1.3083366 ]]\n"
     ]
    }
   ],
   "source": [
    "def extract_vectors(data_src, model=loaded_model, embedding_size=embedding_size):\n",
    "    vectors = []\n",
    "    for src in data_src:\n",
    "        src = src.view(-1, 1)  # Reshape to (seq_len, batch_size)\n",
    "        tgt = model.positional_encoding(model.token_embedding(ys))\n",
    "        \n",
    "        memory = model.positional_encoding(model.token_embedding(src))\n",
    "        memory, _, _ = model.self_attn_encoder(memory, embedding_size)\n",
    "        memory = model.encoder_layer.norm1(memory)\n",
    "\n",
    "        tgt, _, _ = model.self_attn_decoder(tgt, embedding_size)\n",
    "        tgt = model.decoder_layer.norm1(tgt)\n",
    "\n",
    "        # Cross Attention\n",
    "        multi_attn_wq, multi_attn_wk, multi_attn_wv = model.decoder_layer.cross_attn.in_proj_weight.data.chunk(3, dim=0)\n",
    "        multi_attn_bq, multi_attn_bk, multi_attn_bv = model.decoder_layer.cross_attn.in_proj_bias.data.chunk(3, dim=0)\n",
    "        VW = torch.matmul(memory.permute(1, 0, 2), multi_attn_wv.T) + multi_attn_bv\n",
    "        VW = torch.matmul(VW, model.decoder_layer.cross_attn.out_proj.weight.data.T) + model.decoder_layer.cross_attn.out_proj.bias.data\n",
    "        # VW = model.decoder_layer.norm2(VW)\n",
    "        vectors.append(VW.detach().cpu().numpy().squeeze())\n",
    "    vectors_array = np.array(vectors)\n",
    "    return vectors_array, tgt\n",
    "\n",
    "# 偶数と奇数のCross Attention後のベクトルリストを取得\n",
    "even_vectors_ca, sas = extract_vectors(even_src, loaded_model)\n",
    "odd_vectors_ca, sas = extract_vectors(odd_src, loaded_model)\n",
    "even_vectors_ca = even_vectors_ca.mean(axis=0)\n",
    "odd_vectors_ca = odd_vectors_ca.mean(axis=0)\n",
    "print(even_vectors_ca.shape, odd_vectors_ca.shape)\n",
    "print(even_vectors_ca)\n",
    "print(odd_vectors_ca)"
   ]
  },
  {
   "cell_type": "code",
   "execution_count": 14,
   "metadata": {},
   "outputs": [
    {
     "name": "stdout",
     "output_type": "stream",
     "text": [
      "0\n",
      "1.0\n",
      "1.8529792\n",
      "1.8529786\n",
      "1\n",
      "0.99986404\n",
      "1.6749064\n",
      "1.6806941\n",
      "2\n",
      "0.9999334\n",
      "1.523208\n",
      "1.5216678\n",
      "3\n",
      "0.9997727\n",
      "1.6881462\n",
      "1.7195342\n",
      "4\n",
      "0.9999749\n",
      "1.906501\n",
      "1.9092778\n",
      "5\n",
      "0.9883512\n",
      "1.9361542\n",
      "1.9946586\n",
      "6\n",
      "0.99481285\n",
      "2.0560663\n",
      "2.182819\n"
     ]
    }
   ],
   "source": [
    "def cos_sim(v1, v2):\n",
    "    return np.dot(v1, v2) / (np.linalg.norm(v1) * np.linalg.norm(v2))\n",
    "\n",
    "for i in range(7):\n",
    "    print(i)\n",
    "    print(cos_sim(even_vectors_ca[i, :], odd_vectors_ca[i, :]))\n",
    "    print(np.linalg.norm(even_vectors_ca[i, :]))\n",
    "    print(np.linalg.norm(odd_vectors_ca[i, :]))\n",
    "\n",
    "# print(np.linalg.norm(even_vectors_ca[5, :]))\n",
    "# print(np.linalg.norm(odd_vectors_ca[5, :]))\n"
   ]
  },
  {
   "cell_type": "code",
   "execution_count": 15,
   "metadata": {},
   "outputs": [
    {
     "name": "stdout",
     "output_type": "stream",
     "text": [
      "(4,)\n",
      "[ 1.2970408 -0.7846292  0.8676267  1.3076918] [ 1.3157574  -0.61559546  0.68565834  1.2811179 ]\n",
      "0.9948092\n"
     ]
    },
    {
     "data": {
      "image/png": "[encoded data removed]",
      "text/plain": [
       "<Figure size 700x600 with 2 Axes>"
      ]
     },
     "metadata": {},
     "output_type": "display_data"
    },
    {
     "data": {
      "image/png": "[encoded data removed]",
      "text/plain": [
       "<Figure size 700x600 with 2 Axes>"
      ]
     },
     "metadata": {},
     "output_type": "display_data"
    }
   ],
   "source": [
    "# 特にまとまっているOne-vectorについてVw*memを示す\n",
    "def extract_vectors(data_src, model=loaded_model, embedding_size=embedding_size):\n",
    "    VWxmems = []\n",
    "    ca_vectors = []\n",
    "    attn_maps = []\n",
    "    for src in data_src:\n",
    "        src = src.view(-1, 1)  # Reshape to (seq_len, batch_size)\n",
    "        tgt = model.positional_encoding(model.token_embedding(ys))\n",
    "        \n",
    "        memory = model.positional_encoding(model.token_embedding(src))\n",
    "        memory, _, _ = model.self_attn_encoder(memory, embedding_size)\n",
    "        memory = model.encoder_layer.norm1(memory)\n",
    "\n",
    "        tgt, _, _ = model.self_attn_decoder(tgt, embedding_size)\n",
    "        tgt = model.decoder_layer.norm1(tgt)\n",
    "\n",
    "        ca_, ca, attn_map = model.cross_attn(tgt, memory, embedding_size)\n",
    "        # ca = model.decoder_layer.norm2(ca)\n",
    "        ca_vectors.append(ca.transpose(0, 1)[:, -1].detach().cpu().numpy().squeeze())\n",
    "    tgt = tgt.detach().cpu().numpy().squeeze()\n",
    "    ca_vectors = np.array(ca_vectors)\n",
    "    return ca_vectors, tgt\n",
    "\n",
    "\n",
    "# 偶数と奇数のCross Attention後のベクトルリストを取得\n",
    "ca_vectors_odd, sas = extract_vectors(odd_src, loaded_model)\n",
    "ca_vectors_even, sas = extract_vectors(even_src, loaded_model)\n",
    "\n",
    "ca_vectors_odd, ca_vectors_even = ca_vectors_odd.mean(axis=0), ca_vectors_even.mean(axis=0)\n",
    "\n",
    "# print(ca_vectors_odd)\n",
    "# print(ca_vectors_odd + sas)\n",
    "\n",
    "print(ca_vectors_odd.shape)\n",
    "print(ca_vectors_odd, ca_vectors_even)\n",
    "print(cos_sim(ca_vectors_even, ca_vectors_odd))\n",
    "\n",
    "embedding_weight = loaded_model.token_embedding.embedding.weight.data.detach().cpu().numpy()\n",
    "similarity_even_adjusted = np.matmul(embedding_weight, ca_vectors_odd+sas)\n",
    "similarity_odd_adjusted = np.matmul(embedding_weight, ca_vectors_even+sas)\n",
    "\n",
    "plot_heatmap([similarity_even_adjusted], title=\"最終出力の他ベクトルとの類似度(Odd)\", src_label=reverse_vocab, ys_label=\"s\")\n",
    "plot_heatmap([similarity_odd_adjusted], title=\"最終出力の他ベクトルとの類似度(Even)\", src_label=reverse_vocab, ys_label=\"s\")\n"
   ]
  },
  {
   "cell_type": "markdown",
   "metadata": {},
   "source": [
    "メモ：\n",
    "\n",
    "以上はうまくいっていない例。つまり、Attentionが上手に効いていないが、学習は適切に分離できている。\n",
    "\n",
    "\n",
    "\n"
   ]
  },
  {
   "cell_type": "code",
   "execution_count": null,
   "metadata": {},
   "outputs": [],
   "source": []
  },
  {
   "cell_type": "code",
   "execution_count": null,
   "metadata": {},
   "outputs": [],
   "source": []
  },
  {
   "cell_type": "code",
   "execution_count": null,
   "metadata": {},
   "outputs": [],
   "source": []
  },
  {
   "cell_type": "markdown",
   "metadata": {},
   "source": []
  }
 ],
 "metadata": {
  "kernelspec": {
   "display_name": ".venv",
   "language": "python",
   "name": "python3"
  },
  "language_info": {
   "codemirror_mode": {
    "name": "ipython",
    "version": 3
   },
   "file_extension": ".py",
   "mimetype": "text/x-python",
   "name": "python",
   "nbconvert_exporter": "python",
   "pygments_lexer": "ipython3",
   "version": "3.10.12"
  }
 },
 "nbformat": 4,
 "nbformat_minor": 2
}
