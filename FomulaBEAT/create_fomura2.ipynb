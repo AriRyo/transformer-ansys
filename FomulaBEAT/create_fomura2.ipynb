{
 "cells": [
  {
   "cell_type": "markdown",
   "metadata": {},
   "source": [
    "# eq05-1.txt\n",
    "\n",
    "- 5桁のランダムな自然数の偶奇を判定するタスク\n",
    "- 奇数のとき\"O\"(Odd), 偶数の時\"E\"(Even)として変換\n"
   ]
  },
  {
   "cell_type": "code",
   "execution_count": 3,
   "metadata": {},
   "outputs": [
    {
     "name": "stdout",
     "output_type": "stream",
     "text": [
      "53335 => O\n",
      "54409 => O\n",
      "73778 => E\n",
      "10336 => E\n",
      "53329 => O\n",
      "92029 => O\n",
      "15052 => E\n",
      "53391 => O\n",
      "96922 => E\n",
      "50293 => O\n"
     ]
    }
   ],
   "source": [
    "import random\n",
    "\n",
    "# 10桁の自然数を生成\n",
    "def generate_number():\n",
    "    return str(random.randint(10**4, 10**5 - 1))\n",
    "\n",
    "# 偶数か奇数かを判定\n",
    "def is_even(number):\n",
    "    return \"E\" if int(number[-1]) % 2 == 0 else \"O\"\n",
    "\n",
    "# データセット用に10桁の自然数と偶奇を生成\n",
    "def generate_number_and_label():\n",
    "    number = generate_number()  # 10桁の自然数を生成\n",
    "    label = is_even(number)  # 偶数か奇数かを判定\n",
    "    return f\"{number} => {label}\"\n",
    "\n",
    "# ファイルに保存する関数\n",
    "def save_to_file(num_numbers, filename=None):\n",
    "    if filename is None:\n",
    "        for _ in range(num_numbers):\n",
    "            print(generate_number_and_label())\n",
    "        return\n",
    "    with open(filename, 'w') as file:\n",
    "        for _ in range(num_numbers):\n",
    "            data = generate_number_and_label()\n",
    "            file.write(data + '\\n')\n",
    "\n",
    "# 例として10個の自然数を生成して判定\n",
    "save_to_file(10)\n"
   ]
  },
  {
   "cell_type": "code",
   "execution_count": null,
   "metadata": {},
   "outputs": [],
   "source": [
    "save_to_file(10000, 'data/eq05-1.txt')\n",
    "save_to_file(5000, 'data/eq05-1-test.txt')"
   ]
  },
  {
   "cell_type": "code",
   "execution_count": null,
   "metadata": {},
   "outputs": [],
   "source": []
  },
  {
   "cell_type": "code",
   "execution_count": null,
   "metadata": {},
   "outputs": [],
   "source": []
  }
 ],
 "metadata": {
  "kernelspec": {
   "display_name": ".venv",
   "language": "python",
   "name": "python3"
  },
  "language_info": {
   "codemirror_mode": {
    "name": "ipython",
    "version": 3
   },
   "file_extension": ".py",
   "mimetype": "text/x-python",
   "name": "python",
   "nbconvert_exporter": "python",
   "pygments_lexer": "ipython3",
   "version": "3.10.12"
  }
 },
 "nbformat": 4,
 "nbformat_minor": 2
}
