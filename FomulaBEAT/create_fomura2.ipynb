{
 "cells": [
  {
   "cell_type": "markdown",
   "metadata": {},
   "source": [
    "# eq05-1.txt\n",
    "\n",
    "- 5桁のランダムな自然数の偶奇を判定するタスク\n",
    "- 奇数のとき\"O\"(Odd), 偶数の時\"E\"(Even)として変換\n"
   ]
  },
  {
   "cell_type": "code",
   "execution_count": 4,
   "metadata": {},
   "outputs": [
    {
     "name": "stdout",
     "output_type": "stream",
     "text": [
      "19195 => O\n",
      "87199 => O\n",
      "20180 => E\n",
      "10937 => O\n",
      "16992 => E\n",
      "27872 => E\n",
      "59512 => E\n",
      "84502 => E\n",
      "37509 => O\n",
      "15418 => E\n"
     ]
    }
   ],
   "source": [
    "import random\n",
    "\n",
    "# 10桁の自然数を生成\n",
    "def generate_number():\n",
    "    return str(random.randint(10**4, 10**5 - 1))\n",
    "\n",
    "# 偶数か奇数かを判定\n",
    "def is_even(number):\n",
    "    return \"E\" if int(number[-1]) % 2 == 0 else \"O\"\n",
    "\n",
    "# データセット用に10桁の自然数と偶奇を生成\n",
    "def generate_number_and_label():\n",
    "    number = generate_number()  # 10桁の自然数を生成\n",
    "    label = is_even(number)  # 偶数か奇数かを判定\n",
    "    return f\"{number} => {label}\"\n",
    "\n",
    "# ファイルに保存する関数\n",
    "def save_to_file(num_numbers, filename=None):\n",
    "    if filename is None:\n",
    "        for _ in range(num_numbers):\n",
    "            print(generate_number_and_label())\n",
    "        return\n",
    "    with open(filename, 'w') as file:\n",
    "        for _ in range(num_numbers):\n",
    "            data = generate_number_and_label()\n",
    "            file.write(data + '\\n')\n",
    "\n",
    "# 例として10個の自然数を生成して判定\n",
    "save_to_file(10)\n"
   ]
  },
  {
   "cell_type": "code",
   "execution_count": 5,
   "metadata": {},
   "outputs": [],
   "source": [
    "save_to_file(10000, 'data/eq05-1.txt')\n",
    "save_to_file(5000, 'data/eq05-1-test.txt')"
   ]
  },
  {
   "cell_type": "markdown",
   "metadata": {},
   "source": [
    "# eq05-2.txt\n",
    "\n",
    "- 5桁（2進数）のランダムな自然数を反転させるタスク"
   ]
  },
  {
   "cell_type": "code",
   "execution_count": 1,
   "metadata": {},
   "outputs": [
    {
     "name": "stdout",
     "output_type": "stream",
     "text": [
      "10001 => 10001\n",
      "00101 => 10100\n",
      "10100 => 00101\n",
      "01000 => 00010\n",
      "00000 => 00000\n",
      "11000 => 00011\n",
      "01001 => 10010\n",
      "00010 => 01000\n",
      "10001 => 10001\n",
      "00101 => 10100\n"
     ]
    }
   ],
   "source": [
    "import random\n",
    "\n",
    "# 5桁の2進数を生成\n",
    "def generate_binary_number():\n",
    "    return f\"{random.randint(0, 31):05b}\"  # 0〜31を5桁の2進数としてフォーマット\n",
    "\n",
    "# データセット用に5桁の2進数とその反転を生成\n",
    "def generate_binary_number_and_label():\n",
    "    binary_number = generate_binary_number()  # 5桁の2進数を生成\n",
    "    label = binary_number[::-1]  # 2進数を反転\n",
    "    return f\"{binary_number} => {label}\"\n",
    "\n",
    "# ファイルに保存する関数\n",
    "def save_to_file(num_numbers, filename=None):\n",
    "    if filename is None:\n",
    "        for _ in range(num_numbers):\n",
    "            print(generate_binary_number_and_label())\n",
    "        return\n",
    "    with open(filename, 'w') as file:\n",
    "        for _ in range(num_numbers):\n",
    "            data = generate_binary_number_and_label()\n",
    "            file.write(data + '\\n')\n",
    "\n",
    "# 例として10個の2進数を生成して反転\n",
    "save_to_file(10)\n"
   ]
  },
  {
   "cell_type": "code",
   "execution_count": 2,
   "metadata": {},
   "outputs": [],
   "source": [
    "save_to_file(10000, 'data/eq05-2.txt')\n",
    "save_to_file(5000, 'data/eq05-2-test.txt')"
   ]
  },
  {
   "cell_type": "code",
   "execution_count": null,
   "metadata": {},
   "outputs": [],
   "source": []
  },
  {
   "cell_type": "code",
   "execution_count": null,
   "metadata": {},
   "outputs": [],
   "source": []
  }
 ],
 "metadata": {
  "kernelspec": {
   "display_name": ".venv",
   "language": "python",
   "name": "python3"
  },
  "language_info": {
   "codemirror_mode": {
    "name": "ipython",
    "version": 3
   },
   "file_extension": ".py",
   "mimetype": "text/x-python",
   "name": "python",
   "nbconvert_exporter": "python",
   "pygments_lexer": "ipython3",
   "version": "3.10.12"
  }
 },
 "nbformat": 4,
 "nbformat_minor": 2
}
