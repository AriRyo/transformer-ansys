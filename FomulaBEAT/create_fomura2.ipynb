{
 "cells": [
  {
   "cell_type": "markdown",
   "metadata": {},
   "source": [
    "# eq05-1.txt\n",
    "\n",
    "- 5桁のランダムな自然数の偶奇を判定するタスク\n",
    "- 奇数のとき\"O\"(Odd), 偶数の時\"E\"(Even)として変換\n"
   ]
  },
  {
   "cell_type": "code",
   "execution_count": 4,
   "metadata": {},
   "outputs": [
    {
     "name": "stdout",
     "output_type": "stream",
     "text": [
      "19195 => O\n",
      "87199 => O\n",
      "20180 => E\n",
      "10937 => O\n",
      "16992 => E\n",
      "27872 => E\n",
      "59512 => E\n",
      "84502 => E\n",
      "37509 => O\n",
      "15418 => E\n"
     ]
    }
   ],
   "source": [
    "import random\n",
    "\n",
    "# 10桁の自然数を生成\n",
    "def generate_number():\n",
    "    return str(random.randint(10**4, 10**5 - 1))\n",
    "\n",
    "# 偶数か奇数かを判定\n",
    "def is_even(number):\n",
    "    return \"E\" if int(number[-1]) % 2 == 0 else \"O\"\n",
    "\n",
    "# データセット用に10桁の自然数と偶奇を生成\n",
    "def generate_number_and_label():\n",
    "    number = generate_number()  # 10桁の自然数を生成\n",
    "    label = is_even(number)  # 偶数か奇数かを判定\n",
    "    return f\"{number} => {label}\"\n",
    "\n",
    "# ファイルに保存する関数\n",
    "def save_to_file(num_numbers, filename=None):\n",
    "    if filename is None:\n",
    "        for _ in range(num_numbers):\n",
    "            print(generate_number_and_label())\n",
    "        return\n",
    "    with open(filename, 'w') as file:\n",
    "        for _ in range(num_numbers):\n",
    "            data = generate_number_and_label()\n",
    "            file.write(data + '\\n')\n",
    "\n",
    "# 例として10個の自然数を生成して判定\n",
    "save_to_file(10)\n"
   ]
  },
  {
   "cell_type": "code",
   "execution_count": 5,
   "metadata": {},
   "outputs": [],
   "source": [
    "save_to_file(10000, 'data/eq05-1.txt')\n",
    "save_to_file(5000, 'data/eq05-1-test.txt')"
   ]
  },
  {
   "cell_type": "markdown",
   "metadata": {},
   "source": [
    "# eq05-2.txt\n",
    "\n",
    "- 5桁（2進数）のランダムな自然数を反転させるタスク"
   ]
  },
  {
   "cell_type": "code",
   "execution_count": 1,
   "metadata": {},
   "outputs": [
    {
     "name": "stdout",
     "output_type": "stream",
     "text": [
      "10001 => 10001\n",
      "00101 => 10100\n",
      "10100 => 00101\n",
      "01000 => 00010\n",
      "00000 => 00000\n",
      "11000 => 00011\n",
      "01001 => 10010\n",
      "00010 => 01000\n",
      "10001 => 10001\n",
      "00101 => 10100\n"
     ]
    }
   ],
   "source": [
    "import random\n",
    "\n",
    "# 5桁の2進数を生成\n",
    "def generate_binary_number():\n",
    "    return f\"{random.randint(0, 31):05b}\"  # 0〜31を5桁の2進数としてフォーマット\n",
    "\n",
    "# データセット用に5桁の2進数とその反転を生成\n",
    "def generate_binary_number_and_label():\n",
    "    binary_number = generate_binary_number()  # 5桁の2進数を生成\n",
    "    label = binary_number[::-1]  # 2進数を反転\n",
    "    return f\"{binary_number} => {label}\"\n",
    "\n",
    "# ファイルに保存する関数\n",
    "def save_to_file(num_numbers, filename=None):\n",
    "    if filename is None:\n",
    "        for _ in range(num_numbers):\n",
    "            print(generate_binary_number_and_label())\n",
    "        return\n",
    "    with open(filename, 'w') as file:\n",
    "        for _ in range(num_numbers):\n",
    "            data = generate_binary_number_and_label()\n",
    "            file.write(data + '\\n')\n",
    "\n",
    "# 例として10個の2進数を生成して反転\n",
    "save_to_file(10)\n"
   ]
  },
  {
   "cell_type": "code",
   "execution_count": 2,
   "metadata": {},
   "outputs": [],
   "source": [
    "save_to_file(10000, 'data/eq05-2.txt')\n",
    "save_to_file(5000, 'data/eq05-2-test.txt')"
   ]
  },
  {
   "cell_type": "markdown",
   "metadata": {},
   "source": [
    "# eq05-3.txt\n",
    "\n",
    "- 中置記法ポーランド記法に変換\n",
    "- 演算子は+のみ\n",
    "- 深さを1-3に固定\n",
    "- 深さごとに同数だけ生成\n",
    "- 01のみ使用\n",
    "- 空白なし"
   ]
  },
  {
   "cell_type": "code",
   "execution_count": 2,
   "metadata": {},
   "outputs": [
    {
     "name": "stdout",
     "output_type": "stream",
     "text": [
      "0*0 => *00\n",
      "0*1+0*1 => +*01*01\n",
      "1*0*1+0*1 => +*1*01*01\n",
      "1+1 => +11\n",
      "0+1+0+1 => +0+1+01\n",
      "0 => 0\n",
      "1*1 => *11\n",
      "1+0*0 => +1*00\n",
      "0*1*1*0+0 => +*0*1*100\n",
      "0 => 0\n"
     ]
    }
   ],
   "source": [
    "import random\n",
    "import operator\n",
    "\n",
    "DEPTH_LIMIT = 3\n",
    "\n",
    "# 数式生成に使うオペレータと対応するPythonの演算子\n",
    "operators = {\n",
    "    '+': operator.add,\n",
    "    '*': operator.mul,  # '*' を追加\n",
    "}\n",
    "\n",
    "# ランダムな数式を生成する関数（中置記法）\n",
    "def generate_expression(depth=0, max_depth=DEPTH_LIMIT):\n",
    "    if depth >= max_depth or random.random() < 0.25:\n",
    "        return str(random.randint(0, 1))  # 数字のみを返す\n",
    "    else:\n",
    "        op = random.choice(list(operators.keys()))  # '+' か '*' を選択\n",
    "        left = generate_expression(depth + 1, max_depth)\n",
    "        right = generate_expression(depth + 1, max_depth)\n",
    "        return f\"{left}{op}{right}\"\n",
    "\n",
    "# 中置記法から前置記法（ポーランド記法）に変換する関数\n",
    "def infix_to_prefix(expression):\n",
    "    def precedence(op):\n",
    "        # 演算子の優先順位を定義\n",
    "        if op == '+' or op == '-':\n",
    "            return 1\n",
    "        if op == '*' or op == '/':\n",
    "            return 2\n",
    "        return 0\n",
    "\n",
    "    def apply_operator(operators, values):\n",
    "        # 演算子を適用して結果を作成\n",
    "        operator = operators.pop()\n",
    "        right = values.pop()\n",
    "        left = values.pop()\n",
    "        values.append(f\"{operator} {left} {right}\")\n",
    "\n",
    "    operators = []\n",
    "    values = []\n",
    "    i = 0\n",
    "    while i < len(expression):\n",
    "        if expression[i] == '(':\n",
    "            operators.append(expression[i])\n",
    "        elif expression[i].isdigit():\n",
    "            val = \"\"\n",
    "            while i < len(expression) and expression[i].isdigit():\n",
    "                val += expression[i]\n",
    "                i += 1\n",
    "            values.append(val)\n",
    "            continue\n",
    "        elif expression[i] == ')':\n",
    "            # '(' まで演算子を適用\n",
    "            while len(operators) != 0 and operators[-1] != '(':\n",
    "                apply_operator(operators, values)\n",
    "            operators.pop()  # '(' を削除\n",
    "        else:\n",
    "            # 演算子の場合\n",
    "            while (len(operators) != 0 and\n",
    "                   precedence(operators[-1]) > precedence(expression[i])):\n",
    "                apply_operator(operators, values)\n",
    "            operators.append(expression[i])\n",
    "        i += 1\n",
    "\n",
    "    # 残っている演算子を全て適用\n",
    "    while len(operators) != 0:\n",
    "        apply_operator(operators, values)\n",
    "\n",
    "    return values[-1]\n",
    "\n",
    "# 構文木のノードを表現するクラス\n",
    "class Node:\n",
    "    def __init__(self, value):\n",
    "        self.value = value\n",
    "        self.left = None\n",
    "        self.right = None\n",
    "\n",
    "# 数式をポーランド記法として扱い、構文木を構築\n",
    "def parse_polish(expression):\n",
    "    tokens = expression.split()\n",
    "    stack = []\n",
    "    \n",
    "    for token in reversed(tokens):\n",
    "        node = Node(token)\n",
    "        if token in operators:\n",
    "            node.left = stack.pop()\n",
    "            node.right = stack.pop()\n",
    "        stack.append(node)\n",
    "    \n",
    "    return stack[0]  # 最終的な構文木\n",
    "\n",
    "# データセット用に式を生成\n",
    "def generate_polish_and_reverse_polish(max_depth=DEPTH_LIMIT):\n",
    "    expr = generate_expression(max_depth=max_depth)  # ランダムな数式生成\n",
    "    polish_expr = infix_to_prefix(expr)  # 中置記法から前置記法へ変換\n",
    "    polish_expr = polish_expr.replace(' ', '')  # スペースを削除\n",
    "    return f\"{expr} => {polish_expr}\"\n",
    "\n",
    "# ファイルに保存する関数\n",
    "def save_to_file(num_equations, filename=None):\n",
    "    if filename == None:\n",
    "        for i in range(num_equations):\n",
    "            print(generate_polish_and_reverse_polish(max_depth=(i % DEPTH_LIMIT+1)))\n",
    "        return\n",
    "    with open(filename, 'w') as file:\n",
    "        for i in range(num_equations):\n",
    "            equation = generate_polish_and_reverse_polish(max_depth=(i % DEPTH_LIMIT+1))\n",
    "            file.write(equation + '\\n')\n",
    "\n",
    "# 例として10個の数式を生成\n",
    "save_to_file(10)"
   ]
  },
  {
   "cell_type": "code",
   "execution_count": 3,
   "metadata": {},
   "outputs": [],
   "source": [
    "save_to_file(1000000, 'data/eq05-3.txt')\n",
    "save_to_file(2000, 'data/eq05-3-test.txt')\n"
   ]
  },
  {
   "cell_type": "code",
   "execution_count": null,
   "metadata": {},
   "outputs": [],
   "source": []
  }
 ],
 "metadata": {
  "kernelspec": {
   "display_name": ".venv",
   "language": "python",
   "name": "python3"
  },
  "language_info": {
   "codemirror_mode": {
    "name": "ipython",
    "version": 3
   },
   "file_extension": ".py",
   "mimetype": "text/x-python",
   "name": "python",
   "nbconvert_exporter": "python",
   "pygments_lexer": "ipython3",
   "version": "3.10.12"
  }
 },
 "nbformat": 4,
 "nbformat_minor": 2
}
